{
 "cells": [
  {
   "cell_type": "code",
   "execution_count": 1,
   "metadata": {},
   "outputs": [],
   "source": [
    "import numpy as np\n",
    "import matplotlib.pyplot as plt\n",
    "import pandas as pd"
   ]
  },
  {
   "cell_type": "code",
   "execution_count": 11,
   "metadata": {},
   "outputs": [],
   "source": [
    "df = pd.read_csv(\"PCardTransactions15-16.csv\")"
   ]
  },
  {
   "cell_type": "code",
   "execution_count": 12,
   "metadata": {
    "scrolled": true
   },
   "outputs": [
    {
     "data": {
      "text/html": [
       "<div>\n",
       "<style scoped>\n",
       "    .dataframe tbody tr th:only-of-type {\n",
       "        vertical-align: middle;\n",
       "    }\n",
       "\n",
       "    .dataframe tbody tr th {\n",
       "        vertical-align: top;\n",
       "    }\n",
       "\n",
       "    .dataframe thead th {\n",
       "        text-align: right;\n",
       "    }\n",
       "</style>\n",
       "<table border=\"1\" class=\"dataframe\">\n",
       "  <thead>\n",
       "    <tr style=\"text-align: right;\">\n",
       "      <th></th>\n",
       "      <th>Service Area</th>\n",
       "      <th>Account Description</th>\n",
       "      <th>Creditor</th>\n",
       "      <th>Journal Date</th>\n",
       "      <th>Journal Reference</th>\n",
       "      <th>Total</th>\n",
       "    </tr>\n",
       "  </thead>\n",
       "  <tbody>\n",
       "    <tr>\n",
       "      <th>0</th>\n",
       "      <td>Assurance</td>\n",
       "      <td>Miscellaneous Expenses</td>\n",
       "      <td>43033820 COSTA COFFEE</td>\n",
       "      <td>18/08/2015</td>\n",
       "      <td>5043.0</td>\n",
       "      <td>2</td>\n",
       "    </tr>\n",
       "    <tr>\n",
       "      <th>1</th>\n",
       "      <td>Children's Family Services</td>\n",
       "      <td>Miscellaneous Expenses</td>\n",
       "      <td>99 PLUS DISCOUNT MART</td>\n",
       "      <td>08/06/2015</td>\n",
       "      <td>4184.0</td>\n",
       "      <td>29.97</td>\n",
       "    </tr>\n",
       "    <tr>\n",
       "      <th>2</th>\n",
       "      <td>Children's Family Services</td>\n",
       "      <td>E19 - Learning Resources</td>\n",
       "      <td>99P STORES LTD</td>\n",
       "      <td>07/12/2015</td>\n",
       "      <td>6278.0</td>\n",
       "      <td>34.65</td>\n",
       "    </tr>\n",
       "    <tr>\n",
       "      <th>3</th>\n",
       "      <td>Children's Family Services</td>\n",
       "      <td>Equipment and Materials Purcha</td>\n",
       "      <td>99P STORES LTD</td>\n",
       "      <td>18/08/2015</td>\n",
       "      <td>5041.0</td>\n",
       "      <td>10.72</td>\n",
       "    </tr>\n",
       "    <tr>\n",
       "      <th>4</th>\n",
       "      <td>Children's Family Services</td>\n",
       "      <td>Subsistence</td>\n",
       "      <td>CHOPSTIX00000000000</td>\n",
       "      <td>21/05/2015</td>\n",
       "      <td>5750.0</td>\n",
       "      <td>33.7</td>\n",
       "    </tr>\n",
       "  </tbody>\n",
       "</table>\n",
       "</div>"
      ],
      "text/plain": [
       "                 Service Area             Account Description  \\\n",
       "0                   Assurance          Miscellaneous Expenses   \n",
       "1  Children's Family Services          Miscellaneous Expenses   \n",
       "2  Children's Family Services        E19 - Learning Resources   \n",
       "3  Children's Family Services  Equipment and Materials Purcha   \n",
       "4  Children's Family Services                     Subsistence   \n",
       "\n",
       "                Creditor Journal Date  Journal Reference  Total  \n",
       "0  43033820 COSTA COFFEE   18/08/2015             5043.0      2  \n",
       "1  99 PLUS DISCOUNT MART   08/06/2015             4184.0  29.97  \n",
       "2         99P STORES LTD   07/12/2015             6278.0  34.65  \n",
       "3         99P STORES LTD   18/08/2015             5041.0  10.72  \n",
       "4    CHOPSTIX00000000000   21/05/2015             5750.0   33.7  "
      ]
     },
     "execution_count": 12,
     "metadata": {},
     "output_type": "execute_result"
    }
   ],
   "source": [
    "df.head()"
   ]
  },
  {
   "cell_type": "code",
   "execution_count": 13,
   "metadata": {},
   "outputs": [],
   "source": [
    "df['Journal Date'] = pd.to_datetime(df['Journal Date'])"
   ]
  },
  {
   "cell_type": "code",
   "execution_count": 15,
   "metadata": {},
   "outputs": [
    {
     "name": "stderr",
     "output_type": "stream",
     "text": [
      "/anaconda3/lib/python3.6/site-packages/ipykernel_launcher.py:1: FutureWarning: convert_objects is deprecated.  To re-infer data dtypes for object columns, use DataFrame.infer_objects()\n",
      "For all other conversions use the data-type specific converters pd.to_datetime, pd.to_timedelta and pd.to_numeric.\n",
      "  \"\"\"Entry point for launching an IPython kernel.\n"
     ]
    }
   ],
   "source": [
    "df = df.convert_objects(convert_numeric=True)"
   ]
  },
  {
   "cell_type": "code",
   "execution_count": 16,
   "metadata": {},
   "outputs": [
    {
     "data": {
      "text/plain": [
       "Service Area                   object\n",
       "Account Description            object\n",
       "Creditor                       object\n",
       "Journal Date           datetime64[ns]\n",
       "Journal Reference             float64\n",
       "Total                         float64\n",
       "dtype: object"
      ]
     },
     "execution_count": 16,
     "metadata": {},
     "output_type": "execute_result"
    }
   ],
   "source": [
    "df.dtypes"
   ]
  },
  {
   "cell_type": "code",
   "execution_count": 24,
   "metadata": {},
   "outputs": [],
   "source": [
    "df_sorted = df.sort_values(by='Journal Date',ascending=True)"
   ]
  },
  {
   "cell_type": "code",
   "execution_count": 77,
   "metadata": {},
   "outputs": [],
   "source": [
    "x = df_sorted.iloc[100:200, [4]].values"
   ]
  },
  {
   "cell_type": "code",
   "execution_count": 78,
   "metadata": {},
   "outputs": [],
   "source": [
    "y = df_sorted.iloc[100:200, [5]].values"
   ]
  },
  {
   "cell_type": "code",
   "execution_count": 79,
   "metadata": {},
   "outputs": [
    {
     "data": {
      "image/png": "[encoded data removed]",
      "text/plain": [
       "<Figure size 432x288 with 1 Axes>"
      ]
     },
     "metadata": {},
     "output_type": "display_data"
    }
   ],
   "source": [
    "plt.plot(x,y)\n",
    "plt.show()"
   ]
  },
  {
   "cell_type": "code",
   "execution_count": 64,
   "metadata": {},
   "outputs": [],
   "source": [
    "df_clean = df_sorted.dropna(axis=0)"
   ]
  },
  {
   "cell_type": "code",
   "execution_count": 65,
   "metadata": {},
   "outputs": [
    {
     "data": {
      "text/html": [
       "<div>\n",
       "<style scoped>\n",
       "    .dataframe tbody tr th:only-of-type {\n",
       "        vertical-align: middle;\n",
       "    }\n",
       "\n",
       "    .dataframe tbody tr th {\n",
       "        vertical-align: top;\n",
       "    }\n",
       "\n",
       "    .dataframe thead th {\n",
       "        text-align: right;\n",
       "    }\n",
       "</style>\n",
       "<table border=\"1\" class=\"dataframe\">\n",
       "  <thead>\n",
       "    <tr style=\"text-align: right;\">\n",
       "      <th></th>\n",
       "      <th>Service Area</th>\n",
       "      <th>Account Description</th>\n",
       "      <th>Creditor</th>\n",
       "      <th>Journal Date</th>\n",
       "      <th>Journal Reference</th>\n",
       "      <th>Total</th>\n",
       "    </tr>\n",
       "  </thead>\n",
       "  <tbody>\n",
       "    <tr>\n",
       "      <th>1861</th>\n",
       "      <td>Children's Education &amp; Skills</td>\n",
       "      <td>Food Costs</td>\n",
       "      <td>M &amp; D GRODZINSKI LTD</td>\n",
       "      <td>2015-01-05</td>\n",
       "      <td>3036.0</td>\n",
       "      <td>313.65</td>\n",
       "    </tr>\n",
       "    <tr>\n",
       "      <th>3169</th>\n",
       "      <td>Children's Family Services</td>\n",
       "      <td>Travelling Expenses</td>\n",
       "      <td>TFL OYST PHOTOCARD</td>\n",
       "      <td>2015-01-05</td>\n",
       "      <td>3040.0</td>\n",
       "      <td>10.00</td>\n",
       "    </tr>\n",
       "    <tr>\n",
       "      <th>1833</th>\n",
       "      <td>Children's Family Services</td>\n",
       "      <td>Other Transfer Payments to Soc</td>\n",
       "      <td>LOVE2REWARD.CO.UK</td>\n",
       "      <td>2015-01-05</td>\n",
       "      <td>3038.0</td>\n",
       "      <td>506.00</td>\n",
       "    </tr>\n",
       "    <tr>\n",
       "      <th>204</th>\n",
       "      <td>Children's Family Services</td>\n",
       "      <td>Equipment and Materials Purcha</td>\n",
       "      <td>AMAZON SVCS EUROPE,SAR</td>\n",
       "      <td>2015-01-05</td>\n",
       "      <td>3043.0</td>\n",
       "      <td>9.98</td>\n",
       "    </tr>\n",
       "    <tr>\n",
       "      <th>3472</th>\n",
       "      <td>Children's Service DSG</td>\n",
       "      <td>Equipment and Materials Purcha</td>\n",
       "      <td>WWW.CONNEVANS.COM</td>\n",
       "      <td>2015-01-05</td>\n",
       "      <td>3039.0</td>\n",
       "      <td>220.95</td>\n",
       "    </tr>\n",
       "  </tbody>\n",
       "</table>\n",
       "</div>"
      ],
      "text/plain": [
       "                       Service Area             Account Description  \\\n",
       "1861  Children's Education & Skills                      Food Costs   \n",
       "3169     Children's Family Services             Travelling Expenses   \n",
       "1833     Children's Family Services  Other Transfer Payments to Soc   \n",
       "204      Children's Family Services  Equipment and Materials Purcha   \n",
       "3472         Children's Service DSG  Equipment and Materials Purcha   \n",
       "\n",
       "                    Creditor Journal Date  Journal Reference   Total  \n",
       "1861    M & D GRODZINSKI LTD   2015-01-05             3036.0  313.65  \n",
       "3169      TFL OYST PHOTOCARD   2015-01-05             3040.0   10.00  \n",
       "1833       LOVE2REWARD.CO.UK   2015-01-05             3038.0  506.00  \n",
       "204   AMAZON SVCS EUROPE,SAR   2015-01-05             3043.0    9.98  \n",
       "3472       WWW.CONNEVANS.COM   2015-01-05             3039.0  220.95  "
      ]
     },
     "execution_count": 65,
     "metadata": {},
     "output_type": "execute_result"
    }
   ],
   "source": [
    "df_clean.head()"
   ]
  },
  {
   "cell_type": "code",
   "execution_count": 67,
   "metadata": {},
   "outputs": [
    {
     "data": {
      "image/png": "[encoded data removed]",
      "text/plain": [
       "<Figure size 720x432 with 1 Axes>"
      ]
     },
     "metadata": {},
     "output_type": "display_data"
    }
   ],
   "source": [
    "from sklearn.cluster import KMeans\n",
    "data = df_clean[['Journal Reference', 'Total']]\n",
    "n_cluster = range(1, 20)\n",
    "kmeans = [KMeans(n_clusters=i).fit(data) for i in n_cluster]\n",
    "scores = [kmeans[i].score(data) for i in range(len(kmeans))]\n",
    "\n",
    "fig, ax = plt.subplots(figsize=(10,6))\n",
    "ax.plot(n_cluster, scores)\n",
    "plt.xlabel('Number of Clusters')\n",
    "plt.ylabel('Score')\n",
    "plt.title('Elbow Curve')\n",
    "plt.show();"
   ]
  },
  {
   "cell_type": "code",
   "execution_count": 80,
   "metadata": {},
   "outputs": [
    {
     "ename": "NameError",
     "evalue": "name 'Axes3D' is not defined",
     "output_type": "error",
     "traceback": [
      "\u001b[0;31m---------------------------------------------------------------------------\u001b[0m",
      "\u001b[0;31mNameError\u001b[0m                                 Traceback (most recent call last)",
      "\u001b[0;32m<ipython-input-80-bfdc29ca867f>\u001b[0m in \u001b[0;36m<module>\u001b[0;34m()\u001b[0m\n\u001b[1;32m      7\u001b[0m \u001b[0;31m#Plotting\u001b[0m\u001b[0;34m\u001b[0m\u001b[0;34m\u001b[0m\u001b[0;34m\u001b[0m\u001b[0m\n\u001b[1;32m      8\u001b[0m \u001b[0mfig\u001b[0m \u001b[0;34m=\u001b[0m \u001b[0mplt\u001b[0m\u001b[0;34m.\u001b[0m\u001b[0mfigure\u001b[0m\u001b[0;34m(\u001b[0m\u001b[0;36m1\u001b[0m\u001b[0;34m,\u001b[0m \u001b[0mfigsize\u001b[0m\u001b[0;34m=\u001b[0m\u001b[0;34m(\u001b[0m\u001b[0;36m7\u001b[0m\u001b[0;34m,\u001b[0m\u001b[0;36m7\u001b[0m\u001b[0;34m)\u001b[0m\u001b[0;34m)\u001b[0m\u001b[0;34m\u001b[0m\u001b[0;34m\u001b[0m\u001b[0m\n\u001b[0;32m----> 9\u001b[0;31m \u001b[0max\u001b[0m \u001b[0;34m=\u001b[0m \u001b[0mAxes3D\u001b[0m\u001b[0;34m(\u001b[0m\u001b[0mfig\u001b[0m\u001b[0;34m,\u001b[0m \u001b[0mrect\u001b[0m\u001b[0;34m=\u001b[0m\u001b[0;34m[\u001b[0m\u001b[0;36m0\u001b[0m\u001b[0;34m,\u001b[0m \u001b[0;36m0\u001b[0m\u001b[0;34m,\u001b[0m \u001b[0;36m0.95\u001b[0m\u001b[0;34m,\u001b[0m \u001b[0;36m1\u001b[0m\u001b[0;34m]\u001b[0m\u001b[0;34m,\u001b[0m \u001b[0melev\u001b[0m\u001b[0;34m=\u001b[0m\u001b[0;36m48\u001b[0m\u001b[0;34m,\u001b[0m \u001b[0mazim\u001b[0m\u001b[0;34m=\u001b[0m\u001b[0;36m134\u001b[0m\u001b[0;34m)\u001b[0m\u001b[0;34m\u001b[0m\u001b[0;34m\u001b[0m\u001b[0m\n\u001b[0m\u001b[1;32m     10\u001b[0m ax.scatter(X.iloc[:,0], X.iloc[:,1], X.iloc[:,2],\n\u001b[1;32m     11\u001b[0m           c=labels.astype(np.float), edgecolor=\"k\")\n",
      "\u001b[0;31mNameError\u001b[0m: name 'Axes3D' is not defined"
     ]
    },
    {
     "data": {
      "text/plain": [
       "<Figure size 504x504 with 0 Axes>"
      ]
     },
     "metadata": {},
     "output_type": "display_data"
    }
   ],
   "source": [
    "X = df_clean[['Journal Reference', 'Total']]\n",
    "X = X.reset_index(drop=True)\n",
    "km = KMeans(n_clusters=5)\n",
    "km.fit(X)\n",
    "km.predict(X)\n",
    "labels = km.labels_\n",
    "#Plotting\n",
    "fig = plt.figure(1, figsize=(7,7))\n",
    "ax = Axes3D(fig, rect=[0, 0, 0.95, 1], elev=48, azim=134)\n",
    "ax.scatter(X.iloc[:,0], X.iloc[:,1], X.iloc[:,2],\n",
    "          c=labels.astype(np.float), edgecolor=\"k\")\n",
    "ax.set_xlabel(\"price_usd\")\n",
    "ax.set_ylabel(\"srch_booking_window\")\n",
    "ax.set_zlabel(\"srch_saturday_night_bool\")\n",
    "plt.title(\"K Means\", fontsize=14);"
   ]
  },
  {
   "cell_type": "code",
   "execution_count": null,
   "metadata": {},
   "outputs": [],
   "source": []
  }
 ],
 "metadata": {
  "kernelspec": {
   "display_name": "Python 3",
   "language": "python",
   "name": "python3"
  },
  "language_info": {
   "codemirror_mode": {
    "name": "ipython",
    "version": 3
   },
   "file_extension": ".py",
   "mimetype": "text/x-python",
   "name": "python",
   "nbconvert_exporter": "python",
   "pygments_lexer": "ipython3",
   "version": "3.6.8"
  }
 },
 "nbformat": 4,
 "nbformat_minor": 2
}
