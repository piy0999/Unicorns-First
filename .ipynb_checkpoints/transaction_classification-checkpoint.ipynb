{
 "cells": [
  {
   "cell_type": "code",
   "execution_count": 1,
   "metadata": {},
   "outputs": [],
   "source": [
    "import numpy as np\n",
    "import matplotlib.pyplot as plt\n",
    "import pandas as pd"
   ]
  },
  {
   "cell_type": "code",
   "execution_count": 23,
   "metadata": {},
   "outputs": [],
   "source": [
    "df = pd.read_csv(\"PCardTransactions15-16.csv\")"
   ]
  },
  {
   "cell_type": "code",
   "execution_count": 3,
   "metadata": {},
   "outputs": [
    {
     "data": {
      "text/html": [
       "<div>\n",
       "<style scoped>\n",
       "    .dataframe tbody tr th:only-of-type {\n",
       "        vertical-align: middle;\n",
       "    }\n",
       "\n",
       "    .dataframe tbody tr th {\n",
       "        vertical-align: top;\n",
       "    }\n",
       "\n",
       "    .dataframe thead th {\n",
       "        text-align: right;\n",
       "    }\n",
       "</style>\n",
       "<table border=\"1\" class=\"dataframe\">\n",
       "  <thead>\n",
       "    <tr style=\"text-align: right;\">\n",
       "      <th></th>\n",
       "      <th>Service Area</th>\n",
       "      <th>Account Description</th>\n",
       "      <th>Creditor</th>\n",
       "      <th>Journal Date</th>\n",
       "      <th>Journal Reference</th>\n",
       "      <th>Total</th>\n",
       "    </tr>\n",
       "  </thead>\n",
       "  <tbody>\n",
       "    <tr>\n",
       "      <th>3860</th>\n",
       "      <td>Children's Family Services</td>\n",
       "      <td>Food Costs</td>\n",
       "      <td>ZAHRA NEWSAGENT</td>\n",
       "      <td>17/11/2015</td>\n",
       "      <td>6042.0</td>\n",
       "      <td>3.5</td>\n",
       "    </tr>\n",
       "    <tr>\n",
       "      <th>3861</th>\n",
       "      <td>Children's Family Services</td>\n",
       "      <td>Food Costs</td>\n",
       "      <td>ZAHRA NEWSAGENT</td>\n",
       "      <td>20/01/2016</td>\n",
       "      <td>6751.0</td>\n",
       "      <td>4.5</td>\n",
       "    </tr>\n",
       "    <tr>\n",
       "      <th>3862</th>\n",
       "      <td>Children's Family Services</td>\n",
       "      <td>Food Costs</td>\n",
       "      <td>ZAHRA NEWSAGENT</td>\n",
       "      <td>21/03/2016</td>\n",
       "      <td>7535.0</td>\n",
       "      <td>4.5</td>\n",
       "    </tr>\n",
       "    <tr>\n",
       "      <th>3863</th>\n",
       "      <td>Children's Family Services</td>\n",
       "      <td>Food Costs</td>\n",
       "      <td>ZAHRA NEWSAGENT</td>\n",
       "      <td>31/03/2016</td>\n",
       "      <td>7639.0</td>\n",
       "      <td>4.5</td>\n",
       "    </tr>\n",
       "    <tr>\n",
       "      <th>3864</th>\n",
       "      <td>NaN</td>\n",
       "      <td>NaN</td>\n",
       "      <td>NaN</td>\n",
       "      <td>NaN</td>\n",
       "      <td>NaN</td>\n",
       "      <td>381,012.77</td>\n",
       "    </tr>\n",
       "  </tbody>\n",
       "</table>\n",
       "</div>"
      ],
      "text/plain": [
       "                    Service Area Account Description         Creditor  \\\n",
       "3860  Children's Family Services          Food Costs  ZAHRA NEWSAGENT   \n",
       "3861  Children's Family Services          Food Costs  ZAHRA NEWSAGENT   \n",
       "3862  Children's Family Services          Food Costs  ZAHRA NEWSAGENT   \n",
       "3863  Children's Family Services          Food Costs  ZAHRA NEWSAGENT   \n",
       "3864                         NaN                 NaN              NaN   \n",
       "\n",
       "     Journal Date  Journal Reference       Total  \n",
       "3860   17/11/2015             6042.0         3.5  \n",
       "3861   20/01/2016             6751.0         4.5  \n",
       "3862   21/03/2016             7535.0         4.5  \n",
       "3863   31/03/2016             7639.0         4.5  \n",
       "3864          NaN                NaN  381,012.77  "
      ]
     },
     "execution_count": 3,
     "metadata": {},
     "output_type": "execute_result"
    }
   ],
   "source": [
    "df.tail()"
   ]
  },
  {
   "cell_type": "code",
   "execution_count": 8,
   "metadata": {},
   "outputs": [
    {
     "data": {
      "text/plain": [
       "51"
      ]
     },
     "execution_count": 8,
     "metadata": {},
     "output_type": "execute_result"
    }
   ],
   "source": [
    "len(pd.unique(df.iloc[:,1]))"
   ]
  },
  {
   "cell_type": "code",
   "execution_count": 9,
   "metadata": {},
   "outputs": [
    {
     "data": {
      "text/plain": [
       "array(['Miscellaneous Expenses', 'E19 - Learning Resources',\n",
       "       'Equipment and Materials Purcha', 'Subsistence',\n",
       "       'Other Transfer Payments to Soc', 'Travelling Expenses',\n",
       "       'Building Repairs & Maintenance', 'Training',\n",
       "       'Professional Services', 'Other Services',\n",
       "       'Software Licences & Support', 'Other Agencies - Third Party P',\n",
       "       'Equipment and Materials Repair', 'Water Services', 'Stationery',\n",
       "       'Books-CDs-Audio-Video', 'Education CFR Administrative S',\n",
       "       'Education CFR Other Occupation', 'Publications',\n",
       "       'E25 - Catering Supplies', 'Consumable Catering Supplies',\n",
       "       'Cleaning and domestic material', 'Food Costs',\n",
       "       'Hardware Purchases', 'General Office Expenses', 'Subscriptions',\n",
       "       'Conference Expenses', 'Operating Leases - Transport',\n",
       "       'Vehicle Running Costs', 'Telephones Calls',\n",
       "       'Other Indirect Employee Expens', 'Other Establishments - Third P',\n",
       "       'Electricity', 'Advertising', \"Employer's National Insurance \",\n",
       "       'Pool Transport Charges', 'Legal and Court Fees', 'Counsels Fees',\n",
       "       'Fees and Charges', 'Clothing - Protective Clothing', 'Postage',\n",
       "       'Grant Payments', 'IT Services', 'Private Contractors - Third Pa',\n",
       "       'Transport Hire Charges', 'Venue Hire', 'Printing-Contract',\n",
       "       'Grounds maintenance', 'Other Vehicle Costs',\n",
       "       'Furniture-Purchase-Repair', nan], dtype=object)"
      ]
     },
     "execution_count": 9,
     "metadata": {},
     "output_type": "execute_result"
    }
   ],
   "source": [
    "pd.unique(df.iloc[:,1])"
   ]
  },
  {
   "cell_type": "code",
   "execution_count": 25,
   "metadata": {},
   "outputs": [],
   "source": [
    "df['category'] = \"\""
   ]
  },
  {
   "cell_type": "code",
   "execution_count": 24,
   "metadata": {},
   "outputs": [
    {
     "data": {
      "text/html": [
       "<div>\n",
       "<style scoped>\n",
       "    .dataframe tbody tr th:only-of-type {\n",
       "        vertical-align: middle;\n",
       "    }\n",
       "\n",
       "    .dataframe tbody tr th {\n",
       "        vertical-align: top;\n",
       "    }\n",
       "\n",
       "    .dataframe thead th {\n",
       "        text-align: right;\n",
       "    }\n",
       "</style>\n",
       "<table border=\"1\" class=\"dataframe\">\n",
       "  <thead>\n",
       "    <tr style=\"text-align: right;\">\n",
       "      <th></th>\n",
       "      <th>Service Area</th>\n",
       "      <th>Account Description</th>\n",
       "      <th>Creditor</th>\n",
       "      <th>Journal Date</th>\n",
       "      <th>Journal Reference</th>\n",
       "      <th>Total</th>\n",
       "    </tr>\n",
       "  </thead>\n",
       "  <tbody>\n",
       "    <tr>\n",
       "      <th>0</th>\n",
       "      <td>Assurance</td>\n",
       "      <td>Miscellaneous Expenses</td>\n",
       "      <td>43033820 COSTA COFFEE</td>\n",
       "      <td>18/08/2015</td>\n",
       "      <td>5043.0</td>\n",
       "      <td>2</td>\n",
       "    </tr>\n",
       "    <tr>\n",
       "      <th>1</th>\n",
       "      <td>Children's Family Services</td>\n",
       "      <td>Miscellaneous Expenses</td>\n",
       "      <td>99 PLUS DISCOUNT MART</td>\n",
       "      <td>08/06/2015</td>\n",
       "      <td>4184.0</td>\n",
       "      <td>29.97</td>\n",
       "    </tr>\n",
       "    <tr>\n",
       "      <th>2</th>\n",
       "      <td>Children's Family Services</td>\n",
       "      <td>E19 - Learning Resources</td>\n",
       "      <td>99P STORES LTD</td>\n",
       "      <td>07/12/2015</td>\n",
       "      <td>6278.0</td>\n",
       "      <td>34.65</td>\n",
       "    </tr>\n",
       "    <tr>\n",
       "      <th>3</th>\n",
       "      <td>Children's Family Services</td>\n",
       "      <td>Equipment and Materials Purcha</td>\n",
       "      <td>99P STORES LTD</td>\n",
       "      <td>18/08/2015</td>\n",
       "      <td>5041.0</td>\n",
       "      <td>10.72</td>\n",
       "    </tr>\n",
       "    <tr>\n",
       "      <th>4</th>\n",
       "      <td>Children's Family Services</td>\n",
       "      <td>Subsistence</td>\n",
       "      <td>CHOPSTIX00000000000</td>\n",
       "      <td>21/05/2015</td>\n",
       "      <td>5750.0</td>\n",
       "      <td>33.7</td>\n",
       "    </tr>\n",
       "  </tbody>\n",
       "</table>\n",
       "</div>"
      ],
      "text/plain": [
       "                 Service Area             Account Description  \\\n",
       "0                   Assurance          Miscellaneous Expenses   \n",
       "1  Children's Family Services          Miscellaneous Expenses   \n",
       "2  Children's Family Services        E19 - Learning Resources   \n",
       "3  Children's Family Services  Equipment and Materials Purcha   \n",
       "4  Children's Family Services                     Subsistence   \n",
       "\n",
       "                Creditor Journal Date  Journal Reference  Total  \n",
       "0  43033820 COSTA COFFEE   18/08/2015             5043.0      2  \n",
       "1  99 PLUS DISCOUNT MART   08/06/2015             4184.0  29.97  \n",
       "2         99P STORES LTD   07/12/2015             6278.0  34.65  \n",
       "3         99P STORES LTD   18/08/2015             5041.0  10.72  \n",
       "4    CHOPSTIX00000000000   21/05/2015             5750.0   33.7  "
      ]
     },
     "execution_count": 24,
     "metadata": {},
     "output_type": "execute_result"
    }
   ],
   "source": [
    "df.head()"
   ]
  },
  {
   "cell_type": "code",
   "execution_count": 22,
   "metadata": {},
   "outputs": [],
   "source": [
    "def classify_transaction(row):\n",
    "    description = row['Account Description']\n",
    "    if \"Expenses\" in  description:\n",
    "        return \"Expenses\"\n",
    "    elif \"Purchases\" in description:\n",
    "        return \"Revenue\"\n",
    "    elif \"Costs\" in description: \n",
    "        return \"Expenses\"\n",
    "    else:\n",
    "        return \"Others\""
   ]
  },
  {
   "cell_type": "code",
   "execution_count": 26,
   "metadata": {},
   "outputs": [],
   "source": [
    "df = df.dropna(subset=['Account Description'])"
   ]
  },
  {
   "cell_type": "code",
   "execution_count": 27,
   "metadata": {},
   "outputs": [],
   "source": [
    "df['category'] = df.apply(classify_transaction, axis=1)"
   ]
  },
  {
   "cell_type": "code",
   "execution_count": 28,
   "metadata": {},
   "outputs": [
    {
     "data": {
      "text/html": [
       "<div>\n",
       "<style scoped>\n",
       "    .dataframe tbody tr th:only-of-type {\n",
       "        vertical-align: middle;\n",
       "    }\n",
       "\n",
       "    .dataframe tbody tr th {\n",
       "        vertical-align: top;\n",
       "    }\n",
       "\n",
       "    .dataframe thead th {\n",
       "        text-align: right;\n",
       "    }\n",
       "</style>\n",
       "<table border=\"1\" class=\"dataframe\">\n",
       "  <thead>\n",
       "    <tr style=\"text-align: right;\">\n",
       "      <th></th>\n",
       "      <th>Service Area</th>\n",
       "      <th>Account Description</th>\n",
       "      <th>Creditor</th>\n",
       "      <th>Journal Date</th>\n",
       "      <th>Journal Reference</th>\n",
       "      <th>Total</th>\n",
       "      <th>category</th>\n",
       "    </tr>\n",
       "  </thead>\n",
       "  <tbody>\n",
       "    <tr>\n",
       "      <th>0</th>\n",
       "      <td>Assurance</td>\n",
       "      <td>Miscellaneous Expenses</td>\n",
       "      <td>43033820 COSTA COFFEE</td>\n",
       "      <td>18/08/2015</td>\n",
       "      <td>5043.0</td>\n",
       "      <td>2</td>\n",
       "      <td>Expenses</td>\n",
       "    </tr>\n",
       "    <tr>\n",
       "      <th>1</th>\n",
       "      <td>Children's Family Services</td>\n",
       "      <td>Miscellaneous Expenses</td>\n",
       "      <td>99 PLUS DISCOUNT MART</td>\n",
       "      <td>08/06/2015</td>\n",
       "      <td>4184.0</td>\n",
       "      <td>29.97</td>\n",
       "      <td>Expenses</td>\n",
       "    </tr>\n",
       "    <tr>\n",
       "      <th>2</th>\n",
       "      <td>Children's Family Services</td>\n",
       "      <td>E19 - Learning Resources</td>\n",
       "      <td>99P STORES LTD</td>\n",
       "      <td>07/12/2015</td>\n",
       "      <td>6278.0</td>\n",
       "      <td>34.65</td>\n",
       "      <td>Others</td>\n",
       "    </tr>\n",
       "    <tr>\n",
       "      <th>3</th>\n",
       "      <td>Children's Family Services</td>\n",
       "      <td>Equipment and Materials Purcha</td>\n",
       "      <td>99P STORES LTD</td>\n",
       "      <td>18/08/2015</td>\n",
       "      <td>5041.0</td>\n",
       "      <td>10.72</td>\n",
       "      <td>Others</td>\n",
       "    </tr>\n",
       "    <tr>\n",
       "      <th>4</th>\n",
       "      <td>Children's Family Services</td>\n",
       "      <td>Subsistence</td>\n",
       "      <td>CHOPSTIX00000000000</td>\n",
       "      <td>21/05/2015</td>\n",
       "      <td>5750.0</td>\n",
       "      <td>33.7</td>\n",
       "      <td>Others</td>\n",
       "    </tr>\n",
       "  </tbody>\n",
       "</table>\n",
       "</div>"
      ],
      "text/plain": [
       "                 Service Area             Account Description  \\\n",
       "0                   Assurance          Miscellaneous Expenses   \n",
       "1  Children's Family Services          Miscellaneous Expenses   \n",
       "2  Children's Family Services        E19 - Learning Resources   \n",
       "3  Children's Family Services  Equipment and Materials Purcha   \n",
       "4  Children's Family Services                     Subsistence   \n",
       "\n",
       "                Creditor Journal Date  Journal Reference  Total  category  \n",
       "0  43033820 COSTA COFFEE   18/08/2015             5043.0      2  Expenses  \n",
       "1  99 PLUS DISCOUNT MART   08/06/2015             4184.0  29.97  Expenses  \n",
       "2         99P STORES LTD   07/12/2015             6278.0  34.65    Others  \n",
       "3         99P STORES LTD   18/08/2015             5041.0  10.72    Others  \n",
       "4    CHOPSTIX00000000000   21/05/2015             5750.0   33.7    Others  "
      ]
     },
     "execution_count": 28,
     "metadata": {},
     "output_type": "execute_result"
    }
   ],
   "source": [
    "df.head()"
   ]
  },
  {
   "cell_type": "code",
   "execution_count": 30,
   "metadata": {},
   "outputs": [],
   "source": [
    "df['category'] = pd.Categorical(df.category)"
   ]
  },
  {
   "cell_type": "code",
   "execution_count": 31,
   "metadata": {},
   "outputs": [
    {
     "data": {
      "text/plain": [
       "Service Area             object\n",
       "Account Description      object\n",
       "Creditor                 object\n",
       "Journal Date             object\n",
       "Journal Reference       float64\n",
       "Total                    object\n",
       "category               category\n",
       "dtype: object"
      ]
     },
     "execution_count": 31,
     "metadata": {},
     "output_type": "execute_result"
    }
   ],
   "source": [
    "df.dtypes"
   ]
  },
  {
   "cell_type": "code",
   "execution_count": null,
   "metadata": {},
   "outputs": [],
   "source": []
  }
 ],
 "metadata": {
  "kernelspec": {
   "display_name": "Python 3",
   "language": "python",
   "name": "python3"
  },
  "language_info": {
   "codemirror_mode": {
    "name": "ipython",
    "version": 3
   },
   "file_extension": ".py",
   "mimetype": "text/x-python",
   "name": "python",
   "nbconvert_exporter": "python",
   "pygments_lexer": "ipython3",
   "version": "3.6.8"
  }
 },
 "nbformat": 4,
 "nbformat_minor": 2
}
